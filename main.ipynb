{
 "cells": [
  {
   "cell_type": "markdown",
   "id": "c44f9573",
   "metadata": {},
   "source": [
    "**Some considerations on the thick sample thickness in X-ray fluorescence analysis**\n",
    "\n",
    "*Paweł Wróbel* (pwrobel@agh.edu.pl), *Filip J. Baran*\n",
    "\n",
    "Faculty of Physics and Applied Computer Science\n",
    "\n",
    "AGH University of Krakow, Poland\n",
    "\n",
    "Kraków 2024\n",
    "\n",
    "---"
   ]
  },
  {
   "cell_type": "markdown",
   "id": "38287df3",
   "metadata": {},
   "source": [
    "*Importing libraries:*"
   ]
  },
  {
   "cell_type": "code",
   "execution_count": null,
   "id": "9d76970a-0edf-4902-aea1-4d8bf3ab6dc5",
   "metadata": {},
   "outputs": [],
   "source": [
    "import math\n",
    "import scipy.integrate as integrate\n",
    "import scipy.stats as stats\n",
    "import numpy as np\n",
    "import matplotlib.pyplot as plt\n",
    "import xraylib as xrl"
   ]
  },
  {
   "cell_type": "markdown",
   "id": "c0f0904a",
   "metadata": {},
   "source": [
    "*Configuration of measurement and specimen composition:*\n",
    "\n",
    "`config.txt` reading:"
   ]
  },
  {
   "cell_type": "code",
   "execution_count": null,
   "id": "8a34a46f",
   "metadata": {},
   "outputs": [],
   "source": [
    "# config.txt content:\n",
    "# PSI_IN [deg]\n",
    "# PSI_OUT [deg]\n",
    "# THICK_DEF [-]\n",
    "# CALC_RANGE [-] (fraction of decade in log10 scale)\n",
    "# CALC_ITERATIONS [-]\n",
    "# DENSITY [g/cm2] (optional)\n",
    "\n",
    "file = open(\"config.txt\", \"r\")\n",
    "PSI_IN = math.radians(float(file.readline())) # [rad]\n",
    "PSI_OUT = math.radians(float(file.readline())) # [rad]\n",
    "THICK_DEF = float(file.readline()) # [-]\n",
    "CALC_RANGE = float(file.readline()) # [-]\n",
    "CALC_ITERATIONS = int(file.readline()) # [-]\n",
    "try: DENSITY = float(file.readline()) # [g/cm3]\n",
    "except: DENSITY = float(\"NaN\")\n",
    "file.close()"
   ]
  },
  {
   "cell_type": "markdown",
   "id": "43a872d7",
   "metadata": {},
   "source": [
    "`beam.txt` reading:"
   ]
  },
  {
   "cell_type": "code",
   "execution_count": null,
   "id": "30ad1283",
   "metadata": {},
   "outputs": [],
   "source": [
    "# beam.txt content:\n",
    "# (like in Rh_tube_100eV.txt)\n",
    "# energy_0 \\t bremsstrahlung_intensity_0\n",
    "# energy_1 \\t bremsstrahlung_intensity_1\n",
    "# :\n",
    "# energy_n \\t bremsstrahlung_intensity_n=0\n",
    "# energy_specific_line_0 \\t specific_line_intensity_0\n",
    "# energy_specific_line_1 \\t specific_line_intensity_1\n",
    "# :\n",
    "# energy_specific_line_m \\t specific_line_intensity_m\n",
    "\n",
    "temp = np.asarray(np.genfromtxt(\"beam.txt\"))\n",
    "res = temp[1, 0] - temp[0, 0] # [keV]\n",
    "bremsstrahlung = True\n",
    "bremsstrahlung_n = 0\n",
    "for i in range(temp.shape[0]):\n",
    "    if(not bremsstrahlung):\n",
    "        for j in range(bremsstrahlung_n):\n",
    "            if(abs(I0_REF[j, 0] - temp[i, 0]) <= res / 2):\n",
    "                I0_REF[j, 1] += temp[i, 1]\n",
    "    if(temp[i, 1] == 0): \n",
    "        bremsstrahlung = False\n",
    "        bremsstrahlung_n = i\n",
    "        I0_REF = temp[:bremsstrahlung_n, :] # [keV, counts]\n",
    "        for j in range(bremsstrahlung_n):\n",
    "            I0_REF[j, 1] *= res"
   ]
  },
  {
   "cell_type": "markdown",
   "id": "abff34fd",
   "metadata": {},
   "source": [
    "`input.txt` reading:"
   ]
  },
  {
   "cell_type": "code",
   "execution_count": null,
   "id": "ce5f056a",
   "metadata": {},
   "outputs": [],
   "source": [
    "# input.txt content:\n",
    "# compound_0 \\t mass_fraction_0\n",
    "# compound_1 \\t mass_fraction_1\n",
    "# :\n",
    "# compound_n \\t mass_fraction_n\n",
    "\n",
    "name = \"(C$_{10}$H$_8$O$_4$)$_n$\"\n",
    "INPUT = np.genfromtxt(name + \"/input.txt\", dtype = \"U64, f\", ndmin = 1)\n",
    "# INPUT = np.genfromtxt(\"input.txt\", dtype = \"U64, f\", ndmin = 1)\n",
    "mF = 0 # [-]\n",
    "eps = 1e-4 # [-]\n",
    "for i in range(INPUT.size):\n",
    "    mF += INPUT[i][1]\n",
    "if(mF == 0):\n",
    "    mF = float(INPUT.size)\n",
    "    for i in range(INPUT.size):\n",
    "        INPUT[i][1] = 1\n",
    "if(abs(mF - 1) > eps):\n",
    "    print(f\"Sum of mass fractions is {mF:.2}, which is not 1! They will be normalized.\")\n",
    "Elements = np.zeros((118, 2))\n",
    "for i in range(118): \n",
    "    Elements[i, 0] = i + 1\n",
    "for i in range(INPUT.size):\n",
    "    compound = xrl.CompoundParser(INPUT[i][0])\n",
    "    for j in range(len(compound['Elements'])):\n",
    "        Elements[compound['Elements'][j] - 1, 1] += compound['massFractions'][j] * INPUT[i][1] / mF\n",
    "to_delete = []\n",
    "for i in range(118):\n",
    "    if(Elements[i, 1] == 0):\n",
    "        to_delete.append(i)\n",
    "Elements = np.delete(Elements, to_delete, 0) # [-, -]"
   ]
  },
  {
   "cell_type": "markdown",
   "id": "507cbe3f",
   "metadata": {},
   "source": [
    "Configuration check:"
   ]
  },
  {
   "cell_type": "code",
   "execution_count": null,
   "id": "100d5c39",
   "metadata": {},
   "outputs": [],
   "source": [
    "print(f\"PSI_IN = {PSI_IN} rad = {math.degrees(PSI_IN)} deg,\\nPSI_OUT = {PSI_OUT} rad = {math.degrees(PSI_OUT)} deg,\\nCALC_RANGE = {CALC_RANGE} (in log scale),\\nCALC_ITERATIONS = {CALC_ITERATIONS},\\nTHICK_DEF = {THICK_DEF},\\nDENSITY = {DENSITY}\")\n",
    "\n",
    "plt.figure()\n",
    "plt.plot(I0_REF[:, 0], I0_REF[:, 1])\n",
    "plt.yscale(\"log\")\n",
    "plt.xlabel(\"E [keV]\")\n",
    "plt.ylabel(\"counts\")\n",
    "plt.title(\"I0_REF\")\n",
    "\n",
    "print(f\"Elements =\\n {Elements}\")"
   ]
  },
  {
   "cell_type": "markdown",
   "id": "118f0112",
   "metadata": {},
   "source": [
    "*Usage of `xraylib` library:*"
   ]
  },
  {
   "cell_type": "code",
   "execution_count": null,
   "id": "0e5fc2ec",
   "metadata": {},
   "outputs": [],
   "source": [
    "def Eabs(Z, shell):\n",
    "    try: return xrl.EdgeEnergy(Z, shell) # [keV]\n",
    "    except: return 0\n",
    "\n",
    "def E(Z, line):\n",
    "    try: return xrl.LineEnergy(Z, line) # [keV]\n",
    "    except: return 0\n",
    "\n",
    "def sigma(Z, line, E):\n",
    "    try: return xrl.CS_FluorLine(Z, line, E) # [cm2/g]\n",
    "    except: return 0\n",
    "\n",
    "def mu(E):\n",
    "    mu = 0\n",
    "    for element in Elements:\n",
    "        Z = int(element[0])\n",
    "        try: temp = xrl.CS_Total(Z, E)\n",
    "        except: temp = float(\"NaN\")\n",
    "        mu += temp * element[1] if np.isfinite(temp) else 0\n",
    "    return mu # [cm2/g]\n",
    "\n",
    "def line_to_shell(line):\n",
    "    if line > 3:\n",
    "        return float(\"NaN\")\n",
    "    elif line == 3:\n",
    "        return xrl.L2_SHELL\n",
    "    elif line == 2:\n",
    "        return xrl.L3_SHELL\n",
    "    elif line >= -29:\n",
    "        return xrl.K_SHELL\n",
    "    elif line >= -58:\n",
    "        return xrl.L1_SHELL\n",
    "    elif line >= -85:\n",
    "        return xrl.L2_SHELL\n",
    "    elif line >= -113:\n",
    "        return xrl.L3_SHELL\n",
    "    elif line >= -136:\n",
    "        return xrl.M1_SHELL\n",
    "    elif line >= -158:\n",
    "        return xrl.M2_SHELL\n",
    "    elif line >= -180:\n",
    "        return xrl.M3_SHELL\n",
    "    elif line >= -200:\n",
    "        return xrl.M4_SHELL\n",
    "    elif line >= -219:\n",
    "        return xrl.M5_SHELL\n",
    "    elif line >= -237:\n",
    "        return xrl.N1_SHELL\n",
    "    elif line >= -254:\n",
    "        return xrl.N2_SHELL\n",
    "    elif line >= -270:\n",
    "        return xrl.N3_SHELL\n",
    "    elif line >= -285:\n",
    "        return xrl.N4_SHELL\n",
    "    elif line >= -299:\n",
    "        return xrl.N5_SHELL\n",
    "    elif line >= -312:\n",
    "        return xrl.N6_SHELL\n",
    "    elif line >= -324:\n",
    "        return xrl.N7_SHELL\n",
    "    elif line >= -335:\n",
    "        return xrl.O1_SHELL\n",
    "    elif line >= -345:\n",
    "        return xrl.O2_SHELL\n",
    "    elif line >= -354:\n",
    "        return xrl.O3_SHELL\n",
    "    elif line >= -362:\n",
    "        return xrl.O4_SHELL\n",
    "    elif line >= -369:\n",
    "        return xrl.O5_SHELL\n",
    "    elif line >= -372:\n",
    "        return xrl.O6_SHELL\n",
    "    elif line >= -374:\n",
    "        return xrl.O7_SHELL\n",
    "    elif line >= -378:\n",
    "        return xrl.P1_SHELL\n",
    "    elif line >= -381:\n",
    "        return xrl.P2_SHELL\n",
    "    elif line >= -383:\n",
    "        return xrl.P3_SHELL\n",
    "    else:\n",
    "        return float(\"NaN\")"
   ]
  },
  {
   "cell_type": "markdown",
   "id": "6f809977",
   "metadata": {},
   "source": [
    "*Simplified approaches implementation:*"
   ]
  },
  {
   "cell_type": "code",
   "execution_count": null,
   "id": "4b7c6e6f-0e12-4af2-b0f6-88a624987e76",
   "metadata": {},
   "outputs": [],
   "source": [
    "def find_nearest_index(array, value):\n",
    "    return (np.abs(array - value)).argmin()\n",
    "\n",
    "I0 = lambda E : I0_REF[find_nearest_index(I0_REF[:, 0], E), 1] # [counts]\n",
    "\n",
    "def Eeff(Z, line):\n",
    "    nominator = lambda E : I0(E) * sigma(Z, line, E) * E # [counts * cm2/g * keV]\n",
    "    denominator = lambda E : I0(E) * sigma(Z, line, E) # [counts * cm2/g]\n",
    "    try: return integrate.quad(nominator, 0, I0_REF[-1, 0])[0] / integrate.quad(denominator, 0, I0_REF[-1, 0])[0] # [keV]\n",
    "    except: return float(\"NaN\")\n",
    "\n",
    "def surface_mass_simplified(Z, line, type = 'A'):\n",
    "    shell = line_to_shell(line)\n",
    "    simplification = lambda type : Eabs(Z, shell) if type == 'A' else Eeff(Z, line) # [keV]\n",
    "    if simplification(type) > I0_REF[-1, 0] or np.isnan(simplification(type)):\n",
    "        return float(\"NaN\")\n",
    "    try: return -np.log(1 - THICK_DEF) / ( mu(simplification(type)) / math.sin(PSI_IN) + mu(E(Z, line)) / math.sin(PSI_OUT) ) # [g/cm2]\n",
    "    except: return float(\"NaN\")"
   ]
  },
  {
   "cell_type": "markdown",
   "id": "61075335",
   "metadata": {},
   "source": [
    "`Eeff` calculation check for specific `Lines`, `Labels` and `Colors`:"
   ]
  },
  {
   "cell_type": "code",
   "execution_count": null,
   "id": "407da595",
   "metadata": {},
   "outputs": [],
   "source": [
    "# Lines = [xrl.KA_LINE, xrl.KB_LINE, xrl.LA_LINE, xrl.LB_LINE]\n",
    "Labels = [r'$K_\\alpha$', r'$K_\\beta$', r'$L_\\alpha$', r'$L_\\beta$']\n",
    "Lines = [xrl.KA_LINE, xrl.LA_LINE]\n",
    "Labels = [r'$K_\\alpha$', r'$L_\\alpha$']\n",
    "Colors = ['blue', 'orange', 'green', 'red']\n",
    "\n",
    "teff = np.zeros((98, len(Lines)))\n",
    "tabs = np.zeros((98, len(Lines)))\n",
    "for line in range(len(Lines)):\n",
    "    for Z in range(1, 99):\n",
    "        teff[Z - 1, line] = Eeff(Z, Lines[line])\n",
    "        tabs[Z - 1, line] = Eabs(Z, line_to_shell(Lines[line]))\n",
    "        \n",
    "# plt.figure()\n",
    "# for line in range(len(Lines)):\n",
    "#     plt.plot(range(1, 99), teff[:, line], '*', label = Labels[line], color = Colors[line])\n",
    "# for line in range(len(Lines)):\n",
    "#     plt.plot(range(1, 99), tabs[:, line], '.', color = Colors[line])\n",
    "# plt.legend()\n",
    "# plt.xlabel(\"Z\")\n",
    "# plt.ylabel(\"E [keV]\")\n",
    "# plt.title(\"Eeff (stars), Eabs (points)\")\n",
    "# try: plt.ylim([0, 1.1 * np.nanmax(teff[:, 0])])\n",
    "# except: plt.ylim([0, I0_REF[-1, 0]])\n",
    "\n",
    "fig, ax = plt.subplots()\n",
    "double_column_size = 17.1 # [cm]\n",
    "single_column_size = 8.3 # [cm]\n",
    "# fig.set_size_inches((double_column_size / 2.54, double_column_size / 3 / 2.54))\n",
    "fig.set_size_inches((single_column_size / 2.54, single_column_size / 1.5 / 2.54))\n",
    "\n",
    "# fig.suptitle(f\"{name}\")\n",
    "\n",
    "for line in range(len(Lines)):\n",
    "    ax.plot(range(1, 99), teff[:, line], '.', markersize = 2, label = Labels[line])\n",
    "# ax.set_yscale('log')\n",
    "# ax.set_xscale('log')\n",
    "ax.set_xlabel(r\"Atomic number\")\n",
    "ax.set_xlim([0, 100])\n",
    "ax.set_ylabel(r\"Effective energy [keV]\")\n",
    "ax.tick_params(axis = 'both', which = 'both', direction = 'in', top = True, right = True, bottom = True, left = True) \n",
    "box = ax.get_position()\n",
    "ax.set_position([box.x0 + box.width * 0.1, box.y0 + box.height * 0.1, box.width * 0.9, box.height * 0.9])  \n",
    "\n",
    "ax.text(45, 40, r\"K$\\alpha$\", ha = 'center', va = 'center')\n",
    "ax.text(90, 25, r\"L$\\alpha$\", ha = 'center', va = 'center')\n",
    "\n",
    "# fig.savefig(f\"tiff/effective-energy.tiff\", dpi = 1000)\n",
    "# fig.savefig(f\"pdf/effective-energy.pdf\", dpi = 1000)\n",
    "# fig.savefig(f\"png/effective-energy.png\", dpi = 1000)"
   ]
  },
  {
   "cell_type": "markdown",
   "id": "c93941a3",
   "metadata": {},
   "source": [
    "*Exact approach implementation:*"
   ]
  },
  {
   "cell_type": "code",
   "execution_count": null,
   "id": "a9d2f658",
   "metadata": {},
   "outputs": [],
   "source": [
    "def surface_mass(Z, line):\n",
    "    shell = line_to_shell(line)\n",
    "    nominator = lambda E0 : I0(E0) * sigma(Z, line, E0) / ( mu(E0) / math.sin(PSI_IN) + mu(E(Z, line)) / math.sin(PSI_OUT) ) * (1 - np.exp(-sm * ( mu(E0) / math.sin(PSI_IN) + mu(E(Z, line)) / math.sin(PSI_OUT) )))\n",
    "    # [counts * cm2/g * g/cm2 * (1 - exp([sm] * cm2/g)] = [counts] => [sm] = [g/cm2]\n",
    "    denominator = lambda E0 : I0(E0) * sigma(Z, line, E0) / ( mu(E0) / math.sin(PSI_IN) + mu(E(Z, line)) / math.sin(PSI_OUT) )\n",
    "    # [counts * cm2/g * g/cm2] = [counts]\n",
    "    sm_simplified = surface_mass_simplified(Z, line) # [g/cm2]\n",
    "    if np.isfinite(sm_simplified):\n",
    "        sm_range = np.logspace(-CALC_RANGE, CALC_RANGE, 2) * sm_simplified # [g/cm2]\n",
    "        for i in range(CALC_ITERATIONS):\n",
    "            if(sm_range[1] - sm_range[0] < 1e-8):\n",
    "                break\n",
    "            sm = stats.uniform(sm_range[0], sm_range[1] - sm_range[0]).rvs() # [g/cm2]\n",
    "            try: integral = integrate.quad(nominator, Eabs(Z, shell), I0_REF[-1, 0])[0] / integrate.quad(denominator, Eabs(Z, shell), I0_REF[-1, 0])[0] # [-]\n",
    "            except: return float(\"NaN\")\n",
    "            if(integral < THICK_DEF):\n",
    "                sm_range[0] = sm\n",
    "            else:\n",
    "                sm_range[1] = sm\n",
    "        return sm_range[1] # [g/cm2]\n",
    "    return float(\"NaN\")"
   ]
  },
  {
   "cell_type": "markdown",
   "id": "ed83ca11",
   "metadata": {},
   "source": [
    "Check results for simple element `Z` and `line`:"
   ]
  },
  {
   "cell_type": "code",
   "execution_count": null,
   "id": "419130a3",
   "metadata": {},
   "outputs": [],
   "source": [
    "Z = 34\n",
    "line = xrl.KA_LINE\n",
    "\n",
    "A = surface_mass_simplified(Z, line, 'A')\n",
    "B = surface_mass_simplified(Z, line, 'B')\n",
    "C = surface_mass(Z, line)\n",
    "print(f\"\\nSimplification A: {A} g/cm2\\nSimplification B: {B} g/cm2\\nExact approach (C): {C} g/cm2\\n\")\n",
    "print(f\"Relative difference between approaches A and C: {(A-C)/C*100} %\\nRelative difference between approaches B and C: {(B-C)/C*100} %\\n\")"
   ]
  },
  {
   "cell_type": "markdown",
   "id": "984c1a96",
   "metadata": {},
   "source": [
    "Generate results for specific `Lines`:\n",
    "\n",
    "It may take several minutes to execute!"
   ]
  },
  {
   "cell_type": "code",
   "execution_count": null,
   "id": "b0c3ce93-3495-4112-9834-fc96d021d2d5",
   "metadata": {},
   "outputs": [],
   "source": [
    "Lines = [xrl.KA_LINE, xrl.LA_LINE]\n",
    "\n",
    "OUTPUT = [np.zeros((98, 4)) for _ in range(len(Lines))]\n",
    "OUTPUT = np.stack(OUTPUT, axis = 0)\n",
    "for i in range(10):\n",
    "    for line in range(len(Lines)):\n",
    "        for Z in range(1, 99):\n",
    "            OUTPUT[line, Z - 1, 0] = Z\n",
    "            OUTPUT[line, Z - 1, 1] = surface_mass_simplified(Z, Lines[line], 'A')\n",
    "            OUTPUT[line, Z - 1, 2] = surface_mass_simplified(Z, Lines[line], 'B')\n",
    "            OUTPUT[line, Z - 1, 3] = surface_mass(Z, Lines[line])"
   ]
  },
  {
   "cell_type": "markdown",
   "id": "d4f93ff5",
   "metadata": {},
   "source": [
    "Generate `output.txt` for specific `Labels`:\n",
    "\n",
    "Length of `Labels` have to be the same as `Lines` in the code above!"
   ]
  },
  {
   "cell_type": "code",
   "execution_count": null,
   "id": "45c398f0",
   "metadata": {},
   "outputs": [],
   "source": [
    "Labels = [\"Ka\", \"La\"]\n",
    "\n",
    "# name = \"Portland Cement\"\n",
    "\n",
    "file = open(name + \"/output.txt\", \"w\")\n",
    "# for fname in [\"config.txt\", \"input.txt\"]:\n",
    "#     file_input = open(fname, \"r\")\n",
    "#     txt = file_input.readlines()\n",
    "#     for t in txt:\n",
    "#         file.write(t)\n",
    "#     file.write(\"\\n\")\n",
    "#     file_input.close()\n",
    "file.write(\"Z\")\n",
    "for line in range(len(Labels)):\n",
    "    if np.isnan(DENSITY):\n",
    "        file.write(f\"\\t{Labels[line]} [g/cm2] A\\t{Labels[line]} [g/cm2] B\\t{Labels[line]} [g/cm2] C\")\n",
    "    else:\n",
    "        file.write(f\"\\t{Labels[line]} [um] A\\t{Labels[line]} [um] B\\t{Labels[line]} [um] C\")\n",
    "file.write(\"\\n\")\n",
    "for Z in range(1, 99):\n",
    "    file.write(f\"{Z}\")\n",
    "    for line in range(len(Labels)):\n",
    "        if np.isnan(DENSITY):\n",
    "            file.write(f\"\\t{OUTPUT[line, Z-1, 1]}\\t{OUTPUT[line, Z-1, 2]}\\t{OUTPUT[line, Z-1, 3]}\")\n",
    "        else:\n",
    "            file.write(f\"\\t{OUTPUT[line, Z-1, 1] / DENSITY * 1e4}\\t{OUTPUT[line, Z-1, 2] / DENSITY * 1e4}\\t{OUTPUT[line, Z-1, 3] / DENSITY * 1e4}\")\n",
    "    file.write(\"\\n\")\n",
    "file.close()"
   ]
  },
  {
   "cell_type": "markdown",
   "id": "40ba7bf7",
   "metadata": {},
   "source": [
    "Generate results plot for specific `Labels`:\n",
    "\n",
    "Length of `Labels` have to be the same as `Lines` in the code above!"
   ]
  },
  {
   "cell_type": "code",
   "execution_count": null,
   "id": "c5476282",
   "metadata": {},
   "outputs": [],
   "source": [
    "Labels = [r'$K_\\alpha$', r'$L_\\alpha$']\n",
    "\n",
    "plt.figure()\n",
    "for line in range(len(Labels)):\n",
    "    if np.isnan(DENSITY):\n",
    "        plt.plot(OUTPUT[line, :, 0], OUTPUT[line, :, 1], 'x', label=f\"{Labels[line]} A\")\n",
    "        plt.plot(OUTPUT[line, :, 0], OUTPUT[line, :, 2], 'x', label=f\"{Labels[line]} B\")\n",
    "        plt.plot(OUTPUT[line, :, 0], OUTPUT[line, :, 3], '.', label=f\"{Labels[line]} C\")\n",
    "    else:\n",
    "        plt.plot(OUTPUT[line, :, 0], OUTPUT[line, :, 1] / DENSITY * 1e4, 'x', label=f\"{Labels[line]} A\")\n",
    "        plt.plot(OUTPUT[line, :, 0], OUTPUT[line, :, 2] / DENSITY * 1e4, 'x', label=f\"{Labels[line]} B\")\n",
    "        plt.plot(OUTPUT[line, :, 0], OUTPUT[line, :, 3] / DENSITY * 1e4, '.', label=f\"{Labels[line]} C\")\n",
    "plt.yscale(\"log\")\n",
    "plt.xlabel(\"Z\")\n",
    "if np.isnan(DENSITY):\n",
    "    plt.ylabel(r\"$\\rho$D [g/cm$^2$]\")\n",
    "else:\n",
    "    plt.ylabel(r\"D [$\\mu$m]\")\n",
    "plt.legend()\n",
    "plt.xlim([0, 100])"
   ]
  },
  {
   "cell_type": "markdown",
   "id": "af671908",
   "metadata": {},
   "source": [
    "*Clear all variables and results:*\n",
    "\n",
    "Confirmation is required!"
   ]
  },
  {
   "cell_type": "code",
   "execution_count": null,
   "id": "7537bfd3-b8f5-4b22-807c-7b50333b10b8",
   "metadata": {},
   "outputs": [],
   "source": [
    "%reset"
   ]
  }
 ],
 "metadata": {
  "kernelspec": {
   "display_name": "base",
   "language": "python",
   "name": "python3"
  },
  "language_info": {
   "codemirror_mode": {
    "name": "ipython",
    "version": 3
   },
   "file_extension": ".py",
   "mimetype": "text/x-python",
   "name": "python",
   "nbconvert_exporter": "python",
   "pygments_lexer": "ipython3",
   "version": "3.11.5"
  }
 },
 "nbformat": 4,
 "nbformat_minor": 5
}
